{
 "cells": [
  {
   "cell_type": "code",
   "execution_count": 1,
   "metadata": {},
   "outputs": [
    {
     "name": "stderr",
     "output_type": "stream",
     "text": [
      "c:\\Users\\pmartinezr\\Anaconda3\\envs\\TheBridge\\lib\\site-packages\\sklearn\\preprocessing\\_encoders.py:828: FutureWarning: `sparse` was renamed to `sparse_output` in version 1.2 and will be removed in 1.4. `sparse_output` is ignored unless you leave `sparse` to its default value.\n",
      "  warnings.warn(\n"
     ]
    },
    {
     "name": "stdout",
     "output_type": "stream",
     "text": [
      "Precisión del modelo en datos de prueba: 100.00%\n"
     ]
    }
   ],
   "source": [
    "from keras.models import Sequential\n",
    "from keras.layers import Dense\n",
    "from sklearn.datasets import load_iris\n",
    "from sklearn.model_selection import train_test_split\n",
    "from sklearn.preprocessing import OneHotEncoder, StandardScaler\n",
    "import pickle\n",
    "\n",
    "# Carga el conjunto de datos de Iris\n",
    "iris = load_iris()\n",
    "\n",
    "# Divide los datos en conjuntos de entrenamiento y prueba\n",
    "X_train, X_test, y_train, y_test = train_test_split(iris.data, iris.target, test_size=0.2, random_state=42)\n",
    "\n",
    "# Crea un codificador One-Hot para las etiquetas\n",
    "encoder = OneHotEncoder(sparse=False)\n",
    "y_train = encoder.fit_transform(y_train.reshape(-1, 1))\n",
    "y_test = encoder.transform(y_test.reshape(-1, 1))\n",
    "\n",
    "# Crea un modelo de red neuronal secuencial\n",
    "model = Sequential()\n",
    "\n",
    "# Agrega una capa oculta con 16 unidades y una función de activación ReLU\n",
    "model.add(Dense(16, input_shape=(4,), activation='relu'))\n",
    "\n",
    "# Agrega otra capa oculta con 8 unidades y una función de activación ReLU\n",
    "model.add(Dense(8, activation='relu'))\n",
    "\n",
    "# Agrega la capa de salida con 3 unidades y una función de activación softmax\n",
    "model.add(Dense(3, activation='softmax'))\n",
    "\n",
    "# Compila el modelo con una función de pérdida categórica entropía cruzada y un optimizador Adam\n",
    "model.compile(loss='categorical_crossentropy', optimizer='adam', metrics=['accuracy'])\n",
    "\n",
    "# crear el scaler y ajustarlo a los datos de entrenamiento\n",
    "scaler = StandardScaler()\n",
    "scaler.fit(X_train)\n",
    "\n",
    "# guardar el scaler en un archivo pkl\n",
    "with open('iris_scaler.pkl', 'wb') as f:\n",
    "    pickle.dump(scaler, f)\n",
    "\n",
    "# Escalar los datos de entrenamiento y prueba\n",
    "X_train = scaler.transform(X_train)\n",
    "X_test = scaler.transform(X_test)\n",
    "\n",
    "# Entrena el modelo con los datos de entrenamiento\n",
    "model.fit(X_train, y_train, epochs=50, batch_size=8, verbose=0)\n",
    "\n",
    "# Guarda el modelo en formato pkl\n",
    "pickle.dump(model, open('final_iris_model.pkl', 'wb'))\n",
    "model.save('final_iris_model.h5')\n",
    "\n",
    "# Evalúa el modelo con los datos de prueba\n",
    "loss, accuracy = model.evaluate(X_test, y_test, verbose=0)\n",
    "\n",
    "# Imprime la precisión del modelo en los datos de prueba\n",
    "print('Precisión del modelo en datos de prueba: {:.2f}%'.format(accuracy * 100))\n"
   ]
  }
 ],
 "metadata": {
  "kernelspec": {
   "display_name": "Kaggle",
   "language": "python",
   "name": "python3"
  },
  "language_info": {
   "codemirror_mode": {
    "name": "ipython",
    "version": 3
   },
   "file_extension": ".py",
   "mimetype": "text/x-python",
   "name": "python",
   "nbconvert_exporter": "python",
   "pygments_lexer": "ipython3",
   "version": "3.9.15"
  },
  "orig_nbformat": 4
 },
 "nbformat": 4,
 "nbformat_minor": 2
}
